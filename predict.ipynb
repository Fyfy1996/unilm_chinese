{
 "cells": [
  {
   "cell_type": "code",
   "execution_count": 1,
   "id": "91ca219d-16b7-4ae5-a5c3-136457d7393a",
   "metadata": {},
   "outputs": [],
   "source": [
    "from modeling_unilm import UnilmForSeq2SeqDecode\n",
    "from tokenization_unilm import UnilmTokenizer, WhitespaceTokenizer\n",
    "from modeling_unilm import UnilmForSeq2Seq, UnilmConfig\n",
    "import torch\n",
    "import os\n",
    "MODEL_CLASSES = {\n",
    "    'unilm': (UnilmConfig, UnilmForSeq2Seq, UnilmTokenizer)\n",
    "}\n",
    "config_class, model_class, tokenizer_class = MODEL_CLASSES[\"unilm\"]\n",
    "model_recover = torch.load(os.path.join(\"couplet_bot\", \"model.3.bin\"), map_location='cpu')\n",
    "model = UnilmForSeq2SeqDecode.from_pretrained(\"unilm_chinese\", state_dict=model_recover) "
   ]
  },
  {
   "cell_type": "code",
   "execution_count": 2,
   "id": "8405fe1d-4186-4906-b74a-fc95f86c0ab0",
   "metadata": {},
   "outputs": [
    {
     "name": "stderr",
     "output_type": "stream",
     "text": [
      "convert squad examples to features: 4000it [00:01, 3695.57it/s]"
     ]
    },
    {
     "name": "stdout",
     "output_type": "stream",
     "text": [
      "Load 4000 documents\n"
     ]
    },
    {
     "name": "stderr",
     "output_type": "stream",
     "text": [
      "\n"
     ]
    }
   ],
   "source": [
    "import utils_seq2seq\n",
    "from transformers import BertTokenizer\n",
    "from tokenization_unilm import UnilmTokenizer, WhitespaceTokenizer\n",
    "tokenizer = UnilmTokenizer.from_pretrained(\"unilm_chinese\", do_lower_case=True)\n",
    "data_tokenizer = tokenizer\n",
    "\n",
    "\n",
    "val_pipeline = [utils_seq2seq.Preprocess4Seq2seqDecode(list(tokenizer.vocab.keys()), \n",
    "                                                       tokenizer.convert_tokens_to_ids)]\n",
    "\n",
    "\n",
    "#%%\n",
    "train_dataset = utils_seq2seq.Seq2SeqDataset(\"data/couplet/test.json\", 4, \n",
    "     data_tokenizer, 512, bi_uni_pipeline=val_pipeline)\n",
    "\n",
    "#%%\n",
    "import torch\n",
    "from torch.utils.data import RandomSampler\n",
    "train_sampler = RandomSampler(train_dataset, replacement=False)\n",
    "_batch_size = 2\n",
    "\n",
    "train_dataloader = torch.utils.data.DataLoader(train_dataset, batch_size=_batch_size, \n",
    "                                               sampler=train_sampler,\n",
    "                                               num_workers=2, \n",
    "                                               collate_fn=utils_seq2seq.batch_list_to_batch_tensors, \n",
    "                                               pin_memory=False)"
   ]
  },
  {
   "cell_type": "code",
   "execution_count": 3,
   "id": "1fcc8bc6-79d5-4230-bc7d-d38fcded4f9b",
   "metadata": {},
   "outputs": [],
   "source": [
    "# for batch in  train_dataloader:\n",
    "#     input_ids, segment_ids, input_mask, lm_label_ids, masked_pos, masked_weights, _ = batch\n",
    "#     break"
   ]
  },
  {
   "cell_type": "code",
   "execution_count": 4,
   "id": "ece73581-6e49-4e33-a7e2-4ffaf5748821",
   "metadata": {},
   "outputs": [],
   "source": [
    "val_pipeline = [utils_seq2seq.Preprocess4Seq2seqDecode(list(tokenizer.vocab.keys()), \n",
    "                                                       tokenizer.convert_tokens_to_ids)]"
   ]
  },
  {
   "cell_type": "code",
   "execution_count": 287,
   "id": "1bad2d2e-27d9-48a7-9df4-bae022d95747",
   "metadata": {},
   "outputs": [],
   "source": [
    "text,true_re = train_dataset.ex_list[56]"
   ]
  },
  {
   "cell_type": "code",
   "execution_count": 288,
   "id": "470d773d-01a3-45e4-a280-17559722f9cf",
   "metadata": {},
   "outputs": [],
   "source": [
    "# text = \"庆新年，牛年去，旧岁除\""
   ]
  },
  {
   "cell_type": "code",
   "execution_count": 289,
   "id": "71dad6e4-bfb8-41b4-9f31-bc26bec14c86",
   "metadata": {},
   "outputs": [],
   "source": [
    "input_ids, segment_ids, position_ids, input_mask = val_pipeline[0](([ i for i in text], 400))"
   ]
  },
  {
   "cell_type": "code",
   "execution_count": 290,
   "id": "0b49bc4b-4cfc-4e8a-89ac-daf9301b2f9d",
   "metadata": {},
   "outputs": [
    {
     "data": {
      "text/plain": [
       "512"
      ]
     },
     "execution_count": 290,
     "metadata": {},
     "output_type": "execute_result"
    }
   ],
   "source": [
    "position_ids.__len__()"
   ]
  },
  {
   "cell_type": "code",
   "execution_count": 291,
   "id": "c6d29356-df9d-49a4-b982-eed4a6eb22d8",
   "metadata": {},
   "outputs": [],
   "source": [
    "input_tensor = torch.LongTensor([input_ids])\n",
    "seg_tensor = torch.LongTensor([segment_ids])\n",
    "pos_tensor = torch.LongTensor([position_ids])\n",
    "mask_tensor = input_mask.unsqueeze(0)"
   ]
  },
  {
   "cell_type": "code",
   "execution_count": 292,
   "id": "fcbb8bf3-b7ba-4387-bb02-c617e4f7b0b6",
   "metadata": {},
   "outputs": [],
   "source": [
    "preds = model(input_tensor, seg_tensor, pos_tensor, mask_tensor)"
   ]
  },
  {
   "cell_type": "code",
   "execution_count": 293,
   "id": "283dfe1f-42b5-44a1-a2ef-01c4cb518cab",
   "metadata": {},
   "outputs": [
    {
     "data": {
      "text/plain": [
       "torch.Size([1, 110])"
      ]
     },
     "execution_count": 293,
     "metadata": {},
     "output_type": "execute_result"
    }
   ],
   "source": [
    "preds.shape"
   ]
  },
  {
   "cell_type": "code",
   "execution_count": 294,
   "id": "be546582-7579-486d-8e7a-4b16b0536407",
   "metadata": {},
   "outputs": [
    {
     "name": "stdout",
     "output_type": "stream",
     "text": [
      "上联：    鱼戏柳塘生细浪\n",
      "Bot下联： 鸟鸣柳岸唱清歌\n",
      "原下联：  马行花径起香尘\n"
     ]
    }
   ],
   "source": [
    "re = \"\"\n",
    "str_list = tokenizer.convert_ids_to_tokens(preds[0].tolist())\n",
    "for i in str_list:\n",
    "    if i == '[SEP]':\n",
    "        break\n",
    "    re += i\n",
    "    \n",
    "    \n",
    "print(\"上联：   \",text)\n",
    "print(\"Bot下联：\",re)\n",
    "print(\"原下联： \",true_re)"
   ]
  },
  {
   "cell_type": "code",
   "execution_count": null,
   "id": "3c2c2f85-bfd4-4f30-bfd0-c26edce31648",
   "metadata": {},
   "outputs": [],
   "source": []
  },
  {
   "cell_type": "code",
   "execution_count": null,
   "id": "385a764c-98fb-4c77-91e0-7fe43c8141d0",
   "metadata": {},
   "outputs": [],
   "source": []
  }
 ],
 "metadata": {
  "kernelspec": {
   "display_name": "Python 3 (ipykernel)",
   "language": "python",
   "name": "python3"
  },
  "language_info": {
   "codemirror_mode": {
    "name": "ipython",
    "version": 3
   },
   "file_extension": ".py",
   "mimetype": "text/x-python",
   "name": "python",
   "nbconvert_exporter": "python",
   "pygments_lexer": "ipython3",
   "version": "3.7.10"
  }
 },
 "nbformat": 4,
 "nbformat_minor": 5
}
